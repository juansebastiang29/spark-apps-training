{
 "cells": [
  {
   "cell_type": "code",
   "execution_count": null,
   "metadata": {},
   "outputs": [],
   "source": [
    "// import com.cloudera.datascience.common.XmlInputFormat\n",
    "import org.apache.spark.SparkContext\n",
    "import org.apache.hadoop.io.{Text, LongWritable}\n",
    "import org.apache.hadoop.conf.Configuration\n",
    "import org.apache.spark.{SparkContext, SparkConf}\n",
    "import org.apache.spark.sql.functions._\n",
    "import scala.xml._\n",
    "import org.apache.spark.sql.functions.regexp_replace\n",
    "import org.apache.spark.sql.functions.regexp_extract"
   ]
  },
  {
   "cell_type": "code",
   "execution_count": null,
   "metadata": {},
   "outputs": [],
   "source": [
    "%AddDeps org.jsoup jsoup 1.11.3"
   ]
  },
  {
   "cell_type": "code",
   "execution_count": null,
   "metadata": {},
   "outputs": [],
   "source": [
    "val conf = new SparkConf()\n",
    "                .setAppName(\"SparkLearning_Charper_4\")\n",
    "                .set(\"spark.driver.memory\",\"16g\")\n",
    "                .set(\"spark.driver.cores\",\"4\")"
   ]
  },
  {
   "cell_type": "code",
   "execution_count": null,
   "metadata": {},
   "outputs": [],
   "source": [
    "// import jsoup\n",
    "import org.jsoup.Jsoup\n",
    "import org.jsoup.nodes.Element\n",
    "import scala.collection.JavaConversions._"
   ]
  },
  {
   "cell_type": "code",
   "execution_count": null,
   "metadata": {},
   "outputs": [],
   "source": [
    "// Import Java utils for gzip decompression\n",
    "// Import Java utils for reading files\n",
    "import java.io.File\n",
    "import java.io.{FileInputStream}\n",
    "import java.util.zip.{GZIPInputStream}\n",
    "import scala.util.Try"
   ]
  },
  {
   "cell_type": "code",
   "execution_count": null,
   "metadata": {},
   "outputs": [],
   "source": [
    "// val conf = new SparkConf().setAppName(\"SparkLearning_Medline_GraphX\")\n",
    "// val Spark = new SparkContext(conf)"
   ]
  },
  {
   "cell_type": "code",
   "execution_count": null,
   "metadata": {},
   "outputs": [],
   "source": [
    "// Generate a list of files\n",
    "var listFiles= new File(\"medline_data/\")\n",
    "val rows = spark.sparkContext.parallelize(listFiles.listFiles.filter(_.isFile).map(_.toString).toSeq)"
   ]
  },
  {
   "cell_type": "code",
   "execution_count": null,
   "metadata": {},
   "outputs": [],
   "source": [
    "val documents = spark.sparkContext.wholeTextFiles(\"medline_data/*xml\")"
   ]
  },
  {
   "cell_type": "code",
   "execution_count": null,
   "metadata": {},
   "outputs": [],
   "source": [
    "val raw_xml = documents.take(1)(0)"
   ]
  },
  {
   "cell_type": "code",
   "execution_count": null,
   "metadata": {},
   "outputs": [],
   "source": [
    "spark.time"
   ]
  },
  {
   "cell_type": "code",
   "execution_count": null,
   "metadata": {},
   "outputs": [],
   "source": [
    "val rdd = spark.sparkContext.wholeTextFiles(\"medline_data/*.xml\")"
   ]
  },
  {
   "cell_type": "code",
   "execution_count": null,
   "metadata": {},
   "outputs": [],
   "source": [
    "val df = spark.read.format(\"Text\")\n",
    "                        .option(\"rowTag\", \"address\")  //The row tag of your xml files to treat as a row\n",
    "                        .load(rows.take(1)(0))"
   ]
  },
  {
   "cell_type": "code",
   "execution_count": null,
   "metadata": {},
   "outputs": [],
   "source": [
    "df.count()"
   ]
  },
  {
   "cell_type": "code",
   "execution_count": null,
   "metadata": {},
   "outputs": [],
   "source": [
    "df = df.toDF()"
   ]
  },
  {
   "cell_type": "code",
   "execution_count": null,
   "metadata": {},
   "outputs": [],
   "source": [
    "df.withColumn(\"is_start_end\",col(\"value\").contains(\"MedlineCitation\"))"
   ]
  },
  {
   "cell_type": "code",
   "execution_count": null,
   "metadata": {},
   "outputs": [],
   "source": [
    "df.groupBy(col(\"is_start_end\")).count().show()"
   ]
  },
  {
   "cell_type": "code",
   "execution_count": null,
   "metadata": {},
   "outputs": [],
   "source": []
  }
 ],
 "metadata": {
  "kernelspec": {
   "display_name": "Apache Toree - Scala",
   "language": "scala",
   "name": "apache_toree_scala"
  },
  "language_info": {
   "codemirror_mode": "text/x-scala",
   "file_extension": ".scala",
   "mimetype": "text/x-scala",
   "name": "scala",
   "pygments_lexer": "scala",
   "version": "2.11.12"
  }
 },
 "nbformat": 4,
 "nbformat_minor": 2
}
