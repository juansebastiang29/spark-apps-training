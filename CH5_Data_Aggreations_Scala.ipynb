{
 "cells": [
  {
   "cell_type": "code",
   "execution_count": 1,
   "metadata": {},
   "outputs": [],
   "source": [
    "import org.apache.spark.sql.functions.col\n",
    "import org.apache.spark.{SparkContext, SparkConf}\n",
    "import org.apache.spark.sql.functions._"
   ]
  },
  {
   "cell_type": "code",
   "execution_count": 2,
   "metadata": {},
   "outputs": [
    {
     "data": {
      "text/plain": [
       "conf = org.apache.spark.SparkConf@19e9f0bc\n",
       "Spark = org.apache.spark.SparkContext@7c58199a\n"
      ]
     },
     "metadata": {},
     "output_type": "display_data"
    },
    {
     "data": {
      "text/plain": [
       "org.apache.spark.SparkContext@7c58199a"
      ]
     },
     "execution_count": 2,
     "metadata": {},
     "output_type": "execute_result"
    }
   ],
   "source": [
    "val conf = new SparkConf()\n",
    "                .setAppName(\"SparkLearning_Charper_5\")\n",
    "                .set(\"spark.driver.memory\",\"16g\")\n",
    "                    \n",
    "val Spark = new SparkContext(conf)"
   ]
  },
  {
   "cell_type": "code",
   "execution_count": 3,
   "metadata": {},
   "outputs": [
    {
     "name": "stdout",
     "output_type": "stream",
     "text": [
      "[Stage 3:====================================================>     (9 + 1) / 10]"
     ]
    },
    {
     "data": {
      "text/plain": [
       "df = [InvoiceNo: string, StockCode: string ... 6 more fields]\n"
      ]
     },
     "metadata": {},
     "output_type": "display_data"
    },
    {
     "data": {
      "text/plain": [
       "[InvoiceNo: string, StockCode: string ... 6 more fields]"
      ]
     },
     "execution_count": 3,
     "metadata": {},
     "output_type": "execute_result"
    }
   ],
   "source": [
    "val df = spark.read.format(\"csv\")\n",
    "                    .option(\"header\", \"true\")\n",
    "                    .option(\"inferSchema\", \"true\")\n",
    "                    .load(\"Spark-The-Definitive-Guide/data/retail-data/by-day/*.csv\")\n",
    "                    .coalesce(5)\n",
    "df.cache()\n",
    "df.createOrReplaceTempView(\"dfTable\")"
   ]
  },
  {
   "cell_type": "code",
   "execution_count": 4,
   "metadata": {},
   "outputs": [
    {
     "name": "stdout",
     "output_type": "stream",
     "text": [
      "[Stage 4:===============================================>           (4 + 1) / 5]"
     ]
    },
    {
     "data": {
      "text/plain": [
       "541909"
      ]
     },
     "execution_count": 4,
     "metadata": {},
     "output_type": "execute_result"
    }
   ],
   "source": [
    "// the first aggregation type is count\n",
    "df.count()"
   ]
  },
  {
   "cell_type": "code",
   "execution_count": 5,
   "metadata": {},
   "outputs": [
    {
     "data": {
      "text/plain": [
       "Array(541909)"
      ]
     },
     "execution_count": 5,
     "metadata": {},
     "output_type": "execute_result"
    }
   ],
   "source": [
    "// count inside a expression\n",
    "df.select(count(\"StockCode\")).collect()"
   ]
  },
  {
   "cell_type": "code",
   "execution_count": 6,
   "metadata": {},
   "outputs": [
    {
     "data": {
      "text/plain": [
       "+--------+\n",
       "|count(1)|\n",
       "+--------+\n",
       "|  541909|\n",
       "+--------+\n",
       "\n"
      ]
     },
     "execution_count": 6,
     "metadata": {},
     "output_type": "execute_result"
    }
   ],
   "source": [
    "%%SQL\n",
    "SELECT COUNT(*) FROM dfTable"
   ]
  },
  {
   "cell_type": "code",
   "execution_count": 7,
   "metadata": {},
   "outputs": [
    {
     "data": {
      "text/plain": [
       "Array([4070])"
      ]
     },
     "execution_count": 7,
     "metadata": {},
     "output_type": "execute_result"
    }
   ],
   "source": [
    "// count distinct\n",
    "df.select(countDistinct(\"StockCode\")).collect()"
   ]
  },
  {
   "cell_type": "code",
   "execution_count": 13,
   "metadata": {},
   "outputs": [
    {
     "name": "stdout",
     "output_type": "stream",
     "text": [
      "\r",
      "[Stage 17:>                                                         (0 + 0) / 5]"
     ]
    },
    {
     "data": {
      "text/plain": [
       "Array([4079])"
      ]
     },
     "execution_count": 13,
     "metadata": {},
     "output_type": "execute_result"
    }
   ],
   "source": [
    "// approx count distinct\n",
    "df.select(approx_count_distinct(\"StockCode\", 0.01)).collect()"
   ]
  },
  {
   "cell_type": "code",
   "execution_count": 14,
   "metadata": {},
   "outputs": [
    {
     "data": {
      "text/plain": [
       "Array([23084,22168])"
      ]
     },
     "execution_count": 14,
     "metadata": {},
     "output_type": "execute_result"
    }
   ],
   "source": [
    "df.select(first(\"StockCode\"), last(\"StockCode\")).collect()"
   ]
  },
  {
   "cell_type": "code",
   "execution_count": 15,
   "metadata": {},
   "outputs": [
    {
     "data": {
      "text/plain": [
       "Array([-80995,80995])"
      ]
     },
     "execution_count": 15,
     "metadata": {},
     "output_type": "execute_result"
    }
   ],
   "source": [
    "df.select(min(\"Quantity\"), max(\"Quantity\")).collect()"
   ]
  },
  {
   "cell_type": "code",
   "execution_count": 16,
   "metadata": {},
   "outputs": [
    {
     "name": "stdout",
     "output_type": "stream",
     "text": [
      "+-------------+\n",
      "|sum(Quantity)|\n",
      "+-------------+\n",
      "|      5176450|\n",
      "+-------------+\n",
      "\n"
     ]
    }
   ],
   "source": [
    "// sum\n",
    "df.select(sum(\"Quantity\")).show()"
   ]
  },
  {
   "cell_type": "code",
   "execution_count": 19,
   "metadata": {},
   "outputs": [
    {
     "data": {
      "text/plain": [
       "Array([9.55224954743324,9.55224954743324,9.55224954743324])"
      ]
     },
     "execution_count": 19,
     "metadata": {},
     "output_type": "execute_result"
    }
   ],
   "source": [
    "df.select(\n",
    "        count(\"Quantity\").alias(\"total_transactions\"),\n",
    "        sum(\"Quantity\").alias(\"total_purchases\"),\n",
    "        avg(\"Quantity\").alias(\"avg_purchases\"),\n",
    "        expr(\"mean(Quantity)\").alias(\"mean_purchases\"))\n",
    "    .selectExpr(\n",
    "    \"total_purchases/total_transactions\",\n",
    "    \"avg_purchases\",\n",
    "    \"mean_purchases\")\n",
    "    .collect()"
   ]
  },
  {
   "cell_type": "code",
   "execution_count": 20,
   "metadata": {},
   "outputs": [
    {
     "data": {
      "text/plain": [
       "Array([47559.30364660885,47559.39140929855,218.0809566344775,218.0811578502337])"
      ]
     },
     "execution_count": 20,
     "metadata": {},
     "output_type": "execute_result"
    }
   ],
   "source": [
    "//  Variance and Standard Deviation\n",
    "\n",
    "df.select(\n",
    "var_pop(\"Quantity\"),\n",
    "var_samp(\"Quantity\"),\n",
    "stddev_pop(\"Quantity\"),\n",
    "stddev_samp(\"Quantity\"))\n",
    ".collect()"
   ]
  },
  {
   "cell_type": "code",
   "execution_count": 21,
   "metadata": {},
   "outputs": [
    {
     "data": {
      "text/plain": [
       "Array([-0.264075576105286,119768.05495534562])"
      ]
     },
     "execution_count": 21,
     "metadata": {},
     "output_type": "execute_result"
    }
   ],
   "source": [
    "// skewness and Kurtosis\n",
    "df.select(\n",
    "skewness(\"Quantity\"),\n",
    "kurtosis(\"Quantity\"))\n",
    ".collect()"
   ]
  },
  {
   "cell_type": "code",
   "execution_count": 22,
   "metadata": {},
   "outputs": [
    {
     "name": "stdout",
     "output_type": "stream",
     "text": [
      "+-------------------------+-------------------------------+------------------------------+\n",
      "|corr(InvoiceNo, Quantity)|covar_samp(InvoiceNo, Quantity)|covar_pop(InvoiceNo, Quantity)|\n",
      "+-------------------------+-------------------------------+------------------------------+\n",
      "|     4.912186085617365E-4|             1052.7280543863135|            1052.7260778702093|\n",
      "+-------------------------+-------------------------------+------------------------------+\n",
      "\n"
     ]
    }
   ],
   "source": [
    "// Covariance and Correlation\n",
    "df.select(\n",
    "corr(\"InvoiceNo\", \"Quantity\"),\n",
    "covar_samp(\"InvoiceNo\", \"Quantity\"),\n",
    "covar_pop(\"InvoiceNo\", \"Quantity\"))\n",
    ".show()"
   ]
  },
  {
   "cell_type": "markdown",
   "metadata": {},
   "source": [
    "## Aggregation to complex datatypes"
   ]
  },
  {
   "cell_type": "code",
   "execution_count": 23,
   "metadata": {},
   "outputs": [
    {
     "name": "stdout",
     "output_type": "stream",
     "text": [
      "+--------------------+---------------------+\n",
      "|collect_set(Country)|collect_list(Country)|\n",
      "+--------------------+---------------------+\n",
      "|[Portugal, Italy,...| [United Kingdom, ...|\n",
      "+--------------------+---------------------+\n",
      "\n"
     ]
    }
   ],
   "source": [
    "df.agg(\n",
    "collect_set(\"Country\"),\n",
    "collect_list(\"Country\"))\n",
    ".show()"
   ]
  },
  {
   "cell_type": "code",
   "execution_count": 24,
   "metadata": {},
   "outputs": [
    {
     "name": "stdout",
     "output_type": "stream",
     "text": [
      "+---------+-----+\n",
      "|invoiceNo|count|\n",
      "+---------+-----+\n",
      "|   574966|    8|\n",
      "|   575091|   38|\n",
      "|   578057|   28|\n",
      "|   537252|    1|\n",
      "|   578459|    8|\n",
      "|  C578132|    1|\n",
      "|   578292|   72|\n",
      "|   576112|   20|\n",
      "|   577022|   38|\n",
      "|   574592|    8|\n",
      "|  C576393|    2|\n",
      "|   577511|   46|\n",
      "|   577541|   21|\n",
      "|   580739|    2|\n",
      "|   580906|    4|\n",
      "|   573726|    1|\n",
      "|   575671|   20|\n",
      "|   570264|    1|\n",
      "|   570281|    3|\n",
      "|   569823|   69|\n",
      "+---------+-----+\n",
      "only showing top 20 rows\n",
      "\n"
     ]
    }
   ],
   "source": [
    "df.groupBy(\"invoiceNo\").count().show()"
   ]
  },
  {
   "cell_type": "code",
   "execution_count": 25,
   "metadata": {},
   "outputs": [
    {
     "name": "stdout",
     "output_type": "stream",
     "text": [
      "+---------+----+---------------+\n",
      "|InvoiceNo|quan|count(Quantity)|\n",
      "+---------+----+---------------+\n",
      "|   574966|   8|              8|\n",
      "|   575091|  38|             38|\n",
      "|   578057|  28|             28|\n",
      "|   537252|   1|              1|\n",
      "|   578459|   8|              8|\n",
      "|  C578132|   1|              1|\n",
      "|   578292|  72|             72|\n",
      "|   576112|  20|             20|\n",
      "|   577022|  38|             38|\n",
      "|   574592|   8|              8|\n",
      "|  C576393|   2|              2|\n",
      "|   577511|  46|             46|\n",
      "|   577541|  21|             21|\n",
      "|   580739|   2|              2|\n",
      "|   580906|   4|              4|\n",
      "|   573726|   1|              1|\n",
      "|   575671|  20|             20|\n",
      "|   570264|   1|              1|\n",
      "|   570281|   3|              3|\n",
      "|   569823|  69|             69|\n",
      "+---------+----+---------------+\n",
      "only showing top 20 rows\n",
      "\n"
     ]
    }
   ],
   "source": [
    "df.groupBy(\"InvoiceNo\")\n",
    ".agg(\n",
    "count(\"Quantity\").alias(\"quan\"),\n",
    "expr(\"count(Quantity)\"))\n",
    ".show()\n"
   ]
  },
  {
   "cell_type": "code",
   "execution_count": 26,
   "metadata": {},
   "outputs": [
    {
     "name": "stdout",
     "output_type": "stream",
     "text": [
      "+---------+------------------+--------------------+\n",
      "|InvoiceNo|     avg(Quantity)|stddev_pop(Quantity)|\n",
      "+---------+------------------+--------------------+\n",
      "|   574966|               6.0|   3.640054944640259|\n",
      "|   575091|11.552631578947368|   5.008925551458656|\n",
      "|   578057| 4.607142857142857|   8.755974636597271|\n",
      "|   537252|              31.0|                 0.0|\n",
      "|   578459|              28.0|                26.0|\n",
      "|  C578132|              -1.0|                 0.0|\n",
      "|   578292| 5.902777777777778|   8.759375488618884|\n",
      "|   576112|              10.9|  7.4959989327640635|\n",
      "|   577022| 5.131578947368421|   2.903455768848916|\n",
      "|   574592|              7.25|  4.4651427748729375|\n",
      "|  C576393|              -3.5|                 2.5|\n",
      "|   577511|3.1739130434782608|  5.4025128928727195|\n",
      "|   577541| 9.333333333333334|    9.18245393767158|\n",
      "|   580739|               2.5|                 0.5|\n",
      "|   580906|              27.0|  13.076696830622021|\n",
      "|   573726|             -67.0|                 0.0|\n",
      "|   575671|             16.65|   12.14197265686264|\n",
      "|   570264|             -22.0|                 0.0|\n",
      "|   570281|              48.0|                 0.0|\n",
      "|   569823|1.4782608695652173|  0.9869980199409517|\n",
      "+---------+------------------+--------------------+\n",
      "only showing top 20 rows\n",
      "\n"
     ]
    }
   ],
   "source": [
    "df.groupBy(\"InvoiceNo\")\n",
    ".agg(\n",
    "\"Quantity\" ->\"avg\",\n",
    "\"Quantity\" -> \"stddev_pop\")\n",
    ".show()"
   ]
  },
  {
   "cell_type": "code",
   "execution_count": 28,
   "metadata": {},
   "outputs": [
    {
     "data": {
      "text/plain": [
       "dfWithDate = [InvoiceNo: string, StockCode: string ... 7 more fields]\n"
      ]
     },
     "metadata": {},
     "output_type": "display_data"
    },
    {
     "data": {
      "text/plain": [
       "[InvoiceNo: string, StockCode: string ... 7 more fields]"
      ]
     },
     "execution_count": 28,
     "metadata": {},
     "output_type": "execute_result"
    }
   ],
   "source": [
    "val dfWithDate = df.withColumn(\"date\", col(\"InvoiceDate\").cast(\"date\"))\n",
    "dfWithDate.createOrReplaceTempView(\"dfWithDate\")"
   ]
  },
  {
   "cell_type": "code",
   "execution_count": 30,
   "metadata": {},
   "outputs": [
    {
     "data": {
      "text/plain": [
       "windowSpec = org.apache.spark.sql.expressions.WindowSpec@73c9b937\n"
      ]
     },
     "metadata": {},
     "output_type": "display_data"
    },
    {
     "data": {
      "text/plain": [
       "org.apache.spark.sql.expressions.WindowSpec@73c9b937"
      ]
     },
     "execution_count": 30,
     "metadata": {},
     "output_type": "execute_result"
    }
   ],
   "source": [
    "import org.apache.spark.sql.expressions.Window\n",
    "val windowSpec = Window\n",
    ".partitionBy(\"CustomerId\", \"date\")\n",
    ".orderBy(col(\"Quantity\").desc)\n",
    ".rowsBetween(Window.unboundedPreceding, Window.currentRow)"
   ]
  },
  {
   "cell_type": "code",
   "execution_count": 31,
   "metadata": {},
   "outputs": [
    {
     "data": {
      "text/plain": [
       "maxPurchaseQuantity = max(Quantity) OVER (PARTITION BY CustomerId, date ORDER BY Quantity DESC NULLS LAST ROWS BETWEEN UNBOUNDED PRECEDING AND CURRENT ROW)\n"
      ]
     },
     "metadata": {},
     "output_type": "display_data"
    },
    {
     "data": {
      "text/plain": [
       "max(Quantity) OVER (PARTITION BY CustomerId, date ORDER BY Quantity DESC NULLS LAST ROWS BETWEEN UNBOUNDED PRECEDING AND CURRENT ROW)"
      ]
     },
     "execution_count": 31,
     "metadata": {},
     "output_type": "execute_result"
    }
   ],
   "source": [
    "val maxPurchaseQuantity = max(col(\"Quantity\"))\n",
    ".over(windowSpec)"
   ]
  },
  {
   "cell_type": "code",
   "execution_count": 32,
   "metadata": {},
   "outputs": [
    {
     "data": {
      "text/plain": [
       "purchaseDenseRank = DENSE_RANK() OVER (PARTITION BY CustomerId, date ORDER BY Quantity DESC NULLS LAST ROWS BETWEEN UNBOUNDED PRECEDING AND CURRENT ROW)\n",
       "purchaseRank = RANK() OVER (PARTITION BY CustomerId, date ORDER BY Quantity DESC NULLS LAST ROWS BETWEEN UNBOUNDED PRECEDING AND CURRENT ROW)\n"
      ]
     },
     "metadata": {},
     "output_type": "display_data"
    },
    {
     "data": {
      "text/plain": [
       "RANK() OVER (PARTITION BY CustomerId, date ORDER BY Quantity DESC NULLS LAST ROWS BETWEEN UNBOUNDED PRECEDING AND CURRENT ROW)"
      ]
     },
     "execution_count": 32,
     "metadata": {},
     "output_type": "execute_result"
    }
   ],
   "source": [
    "val purchaseDenseRank = dense_rank()\n",
    ".over(windowSpec)\n",
    "val purchaseRank = rank()\n",
    ".over(windowSpec)"
   ]
  },
  {
   "cell_type": "code",
   "execution_count": 33,
   "metadata": {},
   "outputs": [
    {
     "name": "stdout",
     "output_type": "stream",
     "text": [
      "+----------+----------+--------+------------+-----------------+-------------------+\n",
      "|CustomerId|      date|Quantity|quantityRank|quantityDenseRank|maxPurchaseQuantity|\n",
      "+----------+----------+--------+------------+-----------------+-------------------+\n",
      "|   12346.0|2011-01-18|   74215|           1|                1|              74215|\n",
      "|   12346.0|2011-01-18|  -74215|           2|                2|              74215|\n",
      "|   12347.0|2010-12-07|      36|           1|                1|                 36|\n",
      "|   12347.0|2010-12-07|      30|           2|                2|                 36|\n",
      "|   12347.0|2010-12-07|      24|           3|                3|                 36|\n",
      "|   12347.0|2010-12-07|      12|           4|                4|                 36|\n",
      "|   12347.0|2010-12-07|      12|           4|                4|                 36|\n",
      "|   12347.0|2010-12-07|      12|           4|                4|                 36|\n",
      "|   12347.0|2010-12-07|      12|           4|                4|                 36|\n",
      "|   12347.0|2010-12-07|      12|           4|                4|                 36|\n",
      "|   12347.0|2010-12-07|      12|           4|                4|                 36|\n",
      "|   12347.0|2010-12-07|      12|           4|                4|                 36|\n",
      "|   12347.0|2010-12-07|      12|           4|                4|                 36|\n",
      "|   12347.0|2010-12-07|      12|           4|                4|                 36|\n",
      "|   12347.0|2010-12-07|      12|           4|                4|                 36|\n",
      "|   12347.0|2010-12-07|      12|           4|                4|                 36|\n",
      "|   12347.0|2010-12-07|      12|           4|                4|                 36|\n",
      "|   12347.0|2010-12-07|      12|           4|                4|                 36|\n",
      "|   12347.0|2010-12-07|       6|          17|                5|                 36|\n",
      "|   12347.0|2010-12-07|       6|          17|                5|                 36|\n",
      "+----------+----------+--------+------------+-----------------+-------------------+\n",
      "only showing top 20 rows\n",
      "\n"
     ]
    }
   ],
   "source": [
    "dfWithDate\n",
    ".where(\"CustomerId IS NOT NULL\")\n",
    ".orderBy(\"CustomerId\")\n",
    ".select(\n",
    "col(\"CustomerId\"),\n",
    "col(\"date\"),\n",
    "col(\"Quantity\"),\n",
    "purchaseRank.alias(\"quantityRank\"),\n",
    "purchaseDenseRank.alias(\"quantityDenseRank\"),\n",
    "maxPurchaseQuantity.alias(\"maxPurchaseQuantity\"))\n",
    ".show()"
   ]
  },
  {
   "cell_type": "code",
   "execution_count": 35,
   "metadata": {},
   "outputs": [
    {
     "name": "stdout",
     "output_type": "stream",
     "text": [
      "+----------+--------------+--------------+\n",
      "|      Date|       Country|total_quantity|\n",
      "+----------+--------------+--------------+\n",
      "|      null|          null|       5176450|\n",
      "|2010-12-01|        France|           449|\n",
      "|2010-12-01|United Kingdom|         23949|\n",
      "|2010-12-01|        Norway|          1852|\n",
      "|2010-12-01|     Australia|           107|\n",
      "|2010-12-01|          null|         26814|\n",
      "|2010-12-01|          EIRE|           243|\n",
      "|2010-12-01|       Germany|           117|\n",
      "|2010-12-01|   Netherlands|            97|\n",
      "|2010-12-02|          EIRE|             4|\n",
      "|2010-12-02|       Germany|           146|\n",
      "|2010-12-02|          null|         21023|\n",
      "|2010-12-02|United Kingdom|         20873|\n",
      "|2010-12-03|       Belgium|           528|\n",
      "|2010-12-03|        France|           239|\n",
      "|2010-12-03|          EIRE|          2575|\n",
      "|2010-12-03|   Switzerland|           110|\n",
      "|2010-12-03|      Portugal|            65|\n",
      "|2010-12-03|          null|         14830|\n",
      "|2010-12-03|         Spain|           400|\n",
      "+----------+--------------+--------------+\n",
      "only showing top 20 rows\n",
      "\n"
     ]
    },
    {
     "data": {
      "text/plain": [
       "rolledUpDF = [Date: date, Country: string ... 1 more field]\n"
      ]
     },
     "metadata": {},
     "output_type": "display_data"
    },
    {
     "data": {
      "text/plain": [
       "[Date: date, Country: string ... 1 more field]"
      ]
     },
     "execution_count": 35,
     "metadata": {},
     "output_type": "execute_result"
    }
   ],
   "source": [
    "// Rollups\n",
    "val rolledUpDF = dfWithDate.rollup(\"Date\", \"Country\")\n",
    ".agg(sum(\"Quantity\"))\n",
    ".selectExpr(\"Date\", \"Country\", \"`sum(Quantity)` as total_quantity\")\n",
    ".orderBy(\"Date\")\n",
    "rolledUpDF.show(20)"
   ]
  },
  {
   "cell_type": "code",
   "execution_count": 36,
   "metadata": {},
   "outputs": [
    {
     "name": "stdout",
     "output_type": "stream",
     "text": [
      "+----+--------------------+-------------+\n",
      "|Date|             Country|sum(Quantity)|\n",
      "+----+--------------------+-------------+\n",
      "|null|           Australia|        83653|\n",
      "|null|                null|      5176450|\n",
      "|null|            Portugal|        16180|\n",
      "|null|             Finland|        10666|\n",
      "|null|               Japan|        25218|\n",
      "|null|             Germany|       117448|\n",
      "|null|              Cyprus|         6317|\n",
      "|null|         Unspecified|         3300|\n",
      "|null|             Lebanon|          386|\n",
      "|null|                 RSA|          352|\n",
      "|null|     Channel Islands|         9479|\n",
      "|null|               Spain|        26824|\n",
      "|null|United Arab Emirates|          982|\n",
      "|null|             Denmark|         8188|\n",
      "|null|  European Community|          497|\n",
      "|null|           Singapore|         5234|\n",
      "|null|                 USA|         1034|\n",
      "|null|              Norway|        19247|\n",
      "|null|           Hong Kong|         4769|\n",
      "|null|      Czech Republic|          592|\n",
      "+----+--------------------+-------------+\n",
      "only showing top 20 rows\n",
      "\n"
     ]
    }
   ],
   "source": [
    "dfWithDate.cube(\"Date\", \"Country\")\n",
    ".agg(sum(col(\"Quantity\")))\n",
    ".select(\"Date\", \"Country\", \"sum(Quantity)\")\n",
    ".orderBy(\"Date\")\n",
    ".show(20) "
   ]
  },
  {
   "cell_type": "code",
   "execution_count": 37,
   "metadata": {},
   "outputs": [
    {
     "data": {
      "text/plain": [
       "pivoted = [date: date, Australia: bigint ... 37 more fields]\n"
      ]
     },
     "metadata": {},
     "output_type": "display_data"
    },
    {
     "data": {
      "text/plain": [
       "[date: date, Australia: bigint ... 37 more fields]"
      ]
     },
     "execution_count": 37,
     "metadata": {},
     "output_type": "execute_result"
    }
   ],
   "source": [
    "val pivoted = dfWithDate\n",
    ".groupBy(\"date\")\n",
    ".pivot(\"Country\")\n",
    ".agg(\"quantity\" -> \"sum\")"
   ]
  },
  {
   "cell_type": "code",
   "execution_count": 39,
   "metadata": {},
   "outputs": [
    {
     "name": "stdout",
     "output_type": "stream",
     "text": [
      "[Stage 80:===========================================>          (160 + 9) / 200]+----+\n",
      "| USA|\n",
      "+----+\n",
      "|null|\n",
      "|null|\n",
      "|null|\n",
      "|null|\n",
      "|null|\n",
      "|null|\n",
      "|null|\n",
      "|null|\n",
      "|null|\n",
      "|null|\n",
      "|null|\n",
      "|null|\n",
      "|null|\n",
      "|null|\n",
      "|null|\n",
      "|null|\n",
      "|null|\n",
      "|null|\n",
      "|null|\n",
      "|null|\n",
      "+----+\n",
      "only showing top 20 rows\n",
      "\n"
     ]
    }
   ],
   "source": [
    "pivoted.columns\n",
    "pivoted.select(\"USA\").show()"
   ]
  }
 ],
 "metadata": {
  "kernelspec": {
   "display_name": "Apache Toree - Scala",
   "language": "scala",
   "name": "apache_toree_scala"
  },
  "language_info": {
   "codemirror_mode": "text/x-scala",
   "file_extension": ".scala",
   "mimetype": "text/x-scala",
   "name": "scala",
   "pygments_lexer": "scala",
   "version": "2.11.12"
  }
 },
 "nbformat": 4,
 "nbformat_minor": 2
}
