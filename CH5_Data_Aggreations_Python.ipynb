{
 "cells": [
  {
   "cell_type": "code",
   "execution_count": 9,
   "metadata": {},
   "outputs": [],
   "source": [
    "import glob\n",
    "from pyspark.sql import SparkSession\n",
    "from pyspark import SparkContext, SparkConf\n",
    "from pyspark.sql.functions import *"
   ]
  },
  {
   "cell_type": "code",
   "execution_count": 5,
   "metadata": {},
   "outputs": [],
   "source": [
    "spark = SparkSession.builder\\\n",
    "                .appName(\"SparkLearning_Charper_5\")\\\n",
    "                .getOrCreate()\n",
    "                    \n",
    "# sc = SparkContext()"
   ]
  },
  {
   "cell_type": "code",
   "execution_count": 6,
   "metadata": {},
   "outputs": [],
   "source": [
    "df = spark.read.format(\"csv\")\\\n",
    "                .option(\"header\", \"true\")\\\n",
    "                .option(\"inferSchema\", \"true\")\\\n",
    "                .load(\"Spark-The-Definitive-Guide/data/retail-data/by-day/*.csv\")\\\n",
    "                .coalesce(5)\n",
    "df.cache()\n",
    "df.createOrReplaceTempView(\"dfTable\")"
   ]
  },
  {
   "cell_type": "code",
   "execution_count": 10,
   "metadata": {},
   "outputs": [
    {
     "data": {
      "text/plain": [
       "[Row(count(StockCode)=541909)]"
      ]
     },
     "execution_count": 10,
     "metadata": {},
     "output_type": "execute_result"
    }
   ],
   "source": [
    "# // count inside a expression\n",
    "df.select(count(\"StockCode\")).collect()"
   ]
  },
  {
   "cell_type": "code",
   "execution_count": 11,
   "metadata": {},
   "outputs": [
    {
     "data": {
      "text/plain": [
       "[Row((total_purchases / total_transactions)=9.55224954743324, avg_purchases=9.55224954743324, mean_purchases=9.55224954743324)]"
      ]
     },
     "execution_count": 11,
     "metadata": {},
     "output_type": "execute_result"
    }
   ],
   "source": [
    "df.select(\n",
    "count(\"Quantity\").alias(\"total_transactions\"),\n",
    "sum(\"Quantity\").alias(\"total_purchases\"),\n",
    "avg(\"Quantity\").alias(\"avg_purchases\"),\n",
    "expr(\"mean(Quantity)\").alias(\"mean_purchases\"))\\\n",
    ".selectExpr(\n",
    "\"total_purchases/total_transactions\",\n",
    "\"avg_purchases\",\n",
    "\"mean_purchases\")\\\n",
    ".collect()"
   ]
  },
  {
   "cell_type": "code",
   "execution_count": 12,
   "metadata": {},
   "outputs": [
    {
     "data": {
      "text/plain": [
       "[Row(var_pop(Quantity)=47559.30364660885, var_samp(Quantity)=47559.39140929855, stddev_pop(Quantity)=218.0809566344775, stddev_samp(Quantity)=218.0811578502337)]"
      ]
     },
     "execution_count": 12,
     "metadata": {},
     "output_type": "execute_result"
    }
   ],
   "source": [
    "# Variance and Standard deviation\n",
    "df.select(\n",
    "var_pop(\"Quantity\"),\n",
    "var_samp(\"Quantity\"),\n",
    "stddev_pop(\"Quantity\"),\n",
    "stddev_samp(\"Quantity\"))\\\n",
    ".collect()"
   ]
  },
  {
   "cell_type": "code",
   "execution_count": 13,
   "metadata": {},
   "outputs": [
    {
     "data": {
      "text/plain": [
       "[Row(skewness(Quantity)=-0.264075576105286, kurtosis(Quantity)=119768.05495534562)]"
      ]
     },
     "execution_count": 13,
     "metadata": {},
     "output_type": "execute_result"
    }
   ],
   "source": [
    "df.select(\n",
    "skewness(\"Quantity\"),\n",
    "kurtosis(\"Quantity\"))\\\n",
    ".collect()"
   ]
  },
  {
   "cell_type": "code",
   "execution_count": 14,
   "metadata": {},
   "outputs": [
    {
     "name": "stdout",
     "output_type": "stream",
     "text": [
      "+-------------------------+-------------------------------+------------------------------+\n",
      "|corr(InvoiceNo, Quantity)|covar_samp(InvoiceNo, Quantity)|covar_pop(InvoiceNo, Quantity)|\n",
      "+-------------------------+-------------------------------+------------------------------+\n",
      "|     4.912186085617365E-4|             1052.7280543863135|            1052.7260778702093|\n",
      "+-------------------------+-------------------------------+------------------------------+\n",
      "\n"
     ]
    }
   ],
   "source": [
    "df.select(\n",
    "corr(\"InvoiceNo\", \"Quantity\"),\n",
    "covar_samp(\"InvoiceNo\", \"Quantity\"),\n",
    "covar_pop(\"InvoiceNo\", \"Quantity\"))\\\n",
    ".show()"
   ]
  },
  {
   "cell_type": "markdown",
   "metadata": {},
   "source": [
    "## Aggregation to complex data types"
   ]
  },
  {
   "cell_type": "code",
   "execution_count": 15,
   "metadata": {},
   "outputs": [
    {
     "name": "stdout",
     "output_type": "stream",
     "text": [
      "+--------------------+---------------------+\n",
      "|collect_set(Country)|collect_list(Country)|\n",
      "+--------------------+---------------------+\n",
      "|[Portugal, Italy,...| [United Kingdom, ...|\n",
      "+--------------------+---------------------+\n",
      "\n"
     ]
    }
   ],
   "source": [
    "df.agg(\n",
    "collect_set(\"Country\"),\n",
    "collect_list(\"Country\"))\\\n",
    ".show()"
   ]
  },
  {
   "cell_type": "code",
   "execution_count": 16,
   "metadata": {},
   "outputs": [
    {
     "name": "stdout",
     "output_type": "stream",
     "text": [
      "+---------+-----+\n",
      "|invoiceNo|count|\n",
      "+---------+-----+\n",
      "|   574966|    8|\n",
      "|   575091|   38|\n",
      "|   578057|   28|\n",
      "|   537252|    1|\n",
      "|   578459|    8|\n",
      "|  C578132|    1|\n",
      "|   578292|   72|\n",
      "|   576112|   20|\n",
      "|   577022|   38|\n",
      "|   574592|    8|\n",
      "|  C576393|    2|\n",
      "|   577511|   46|\n",
      "|   577541|   21|\n",
      "|   580739|    2|\n",
      "|   580906|    4|\n",
      "|   573726|    1|\n",
      "|   575671|   20|\n",
      "|   570264|    1|\n",
      "|   570281|    3|\n",
      "|   569823|   69|\n",
      "+---------+-----+\n",
      "only showing top 20 rows\n",
      "\n"
     ]
    }
   ],
   "source": [
    "df.groupBy(\"invoiceNo\").count().show()"
   ]
  },
  {
   "cell_type": "code",
   "execution_count": 17,
   "metadata": {},
   "outputs": [
    {
     "name": "stdout",
     "output_type": "stream",
     "text": [
      "+---------+----+---------------+\n",
      "|InvoiceNo|quan|count(Quantity)|\n",
      "+---------+----+---------------+\n",
      "|   574966|   8|              8|\n",
      "|   575091|  38|             38|\n",
      "|   578057|  28|             28|\n",
      "|   537252|   1|              1|\n",
      "|   578459|   8|              8|\n",
      "|  C578132|   1|              1|\n",
      "|   578292|  72|             72|\n",
      "|   576112|  20|             20|\n",
      "|   577022|  38|             38|\n",
      "|   574592|   8|              8|\n",
      "|  C576393|   2|              2|\n",
      "|   577511|  46|             46|\n",
      "|   577541|  21|             21|\n",
      "|   580739|   2|              2|\n",
      "|   580906|   4|              4|\n",
      "|   573726|   1|              1|\n",
      "|   575671|  20|             20|\n",
      "|   570264|   1|              1|\n",
      "|   570281|   3|              3|\n",
      "|   569823|  69|             69|\n",
      "+---------+----+---------------+\n",
      "only showing top 20 rows\n",
      "\n"
     ]
    }
   ],
   "source": [
    "df.groupBy(\"InvoiceNo\")\\\n",
    ".agg(\n",
    "count(\"Quantity\").alias(\"quan\"),\n",
    "expr(\"count(Quantity)\"))\\\n",
    ".show()"
   ]
  },
  {
   "cell_type": "code",
   "execution_count": 19,
   "metadata": {},
   "outputs": [
    {
     "ename": "SyntaxError",
     "evalue": "invalid syntax (<ipython-input-19-a3c07ad708d5>, line 2)",
     "output_type": "error",
     "traceback": [
      "\u001b[0;36m  File \u001b[0;32m\"<ipython-input-19-a3c07ad708d5>\"\u001b[0;36m, line \u001b[0;32m2\u001b[0m\n\u001b[0;31m    \"Quantity\" ->\"avg\",\u001b[0m\n\u001b[0m                ^\u001b[0m\n\u001b[0;31mSyntaxError\u001b[0m\u001b[0;31m:\u001b[0m invalid syntax\n"
     ]
    }
   ],
   "source": [
    "df.groupBy(\"InvoiceNo\")\\\n",
    ".agg(\n",
    "\"Quantity\" ->\"avg\",\n",
    "\"Quantity\" -> \"stddev_pop\")\\\n",
    ".show()"
   ]
  },
  {
   "cell_type": "code",
   "execution_count": 29,
   "metadata": {},
   "outputs": [],
   "source": [
    "dfWithDate = df.withColumn(\"date\", col(\"InvoiceDate\").cast(\"date\"))\n",
    "dfWithDate.createOrReplaceTempView(\"dfWithDate\")"
   ]
  },
  {
   "cell_type": "code",
   "execution_count": 30,
   "metadata": {},
   "outputs": [],
   "source": [
    "from pyspark.sql.window import Window\n",
    "# from pyspark.sql.functions import desc\n",
    "windowSpec = Window\\\n",
    ".partitionBy(\"CustomerId\", \"date\")\\\n",
    ".orderBy(desc(\"Quantity\"))\\\n",
    ".rowsBetween(Window.unboundedPreceding, Window.currentRow)"
   ]
  },
  {
   "cell_type": "code",
   "execution_count": 31,
   "metadata": {},
   "outputs": [],
   "source": [
    "maxPurchaseQuantity = max(col(\"Quantity\"))\\\n",
    ".over(windowSpec)\n"
   ]
  },
  {
   "cell_type": "code",
   "execution_count": 32,
   "metadata": {},
   "outputs": [],
   "source": [
    "purchaseDenseRank = dense_rank()\\\n",
    ".over(windowSpec)\n",
    "purchaseRank = rank()\\\n",
    ".over(windowSpec)"
   ]
  },
  {
   "cell_type": "code",
   "execution_count": 33,
   "metadata": {},
   "outputs": [
    {
     "name": "stdout",
     "output_type": "stream",
     "text": [
      "+----------+----------+--------+------------+-----------------+-------------------+\n",
      "|CustomerId|      date|Quantity|quantityRank|quantityDenseRank|maxPurchaseQuantity|\n",
      "+----------+----------+--------+------------+-----------------+-------------------+\n",
      "|   12346.0|2011-01-18|   74215|           1|                1|              74215|\n",
      "|   12346.0|2011-01-18|  -74215|           2|                2|              74215|\n",
      "|   12347.0|2010-12-07|      36|           1|                1|                 36|\n",
      "|   12347.0|2010-12-07|      30|           2|                2|                 36|\n",
      "|   12347.0|2010-12-07|      24|           3|                3|                 36|\n",
      "|   12347.0|2010-12-07|      12|           4|                4|                 36|\n",
      "|   12347.0|2010-12-07|      12|           4|                4|                 36|\n",
      "|   12347.0|2010-12-07|      12|           4|                4|                 36|\n",
      "|   12347.0|2010-12-07|      12|           4|                4|                 36|\n",
      "|   12347.0|2010-12-07|      12|           4|                4|                 36|\n",
      "|   12347.0|2010-12-07|      12|           4|                4|                 36|\n",
      "|   12347.0|2010-12-07|      12|           4|                4|                 36|\n",
      "|   12347.0|2010-12-07|      12|           4|                4|                 36|\n",
      "|   12347.0|2010-12-07|      12|           4|                4|                 36|\n",
      "|   12347.0|2010-12-07|      12|           4|                4|                 36|\n",
      "|   12347.0|2010-12-07|      12|           4|                4|                 36|\n",
      "|   12347.0|2010-12-07|      12|           4|                4|                 36|\n",
      "|   12347.0|2010-12-07|      12|           4|                4|                 36|\n",
      "|   12347.0|2010-12-07|       6|          17|                5|                 36|\n",
      "|   12347.0|2010-12-07|       6|          17|                5|                 36|\n",
      "+----------+----------+--------+------------+-----------------+-------------------+\n",
      "only showing top 20 rows\n",
      "\n"
     ]
    }
   ],
   "source": [
    "dfWithDate\\\n",
    ".where(\"CustomerId IS NOT NULL\")\\\n",
    ".orderBy(\"CustomerId\")\\\n",
    ".select(\n",
    "col(\"CustomerId\"),\n",
    "col(\"date\"),\n",
    "col(\"Quantity\"),\n",
    "purchaseRank.alias(\"quantityRank\"),\n",
    "purchaseDenseRank.alias(\"quantityDenseRank\"),\n",
    "maxPurchaseQuantity.alias(\"maxPurchaseQuantity\"))\\\n",
    ".show()"
   ]
  },
  {
   "cell_type": "code",
   "execution_count": 38,
   "metadata": {},
   "outputs": [
    {
     "name": "stdout",
     "output_type": "stream",
     "text": [
      "+----------+--------------+--------------+\n",
      "|      Date|       Country|total_quantity|\n",
      "+----------+--------------+--------------+\n",
      "|      null|          null|       5176450|\n",
      "|2010-12-01|United Kingdom|         23949|\n",
      "|2010-12-01|          EIRE|           243|\n",
      "|2010-12-01|        France|           449|\n",
      "|2010-12-01|     Australia|           107|\n",
      "|2010-12-01|        Norway|          1852|\n",
      "|2010-12-01|       Germany|           117|\n",
      "|2010-12-01|          null|         26814|\n",
      "|2010-12-01|   Netherlands|            97|\n",
      "|2010-12-02|          EIRE|             4|\n",
      "|2010-12-02|          null|         21023|\n",
      "|2010-12-02|       Germany|           146|\n",
      "|2010-12-02|United Kingdom|         20873|\n",
      "|2010-12-03|        Poland|           140|\n",
      "|2010-12-03|         Spain|           400|\n",
      "|2010-12-03|       Germany|           170|\n",
      "|2010-12-03|       Belgium|           528|\n",
      "|2010-12-03|        France|           239|\n",
      "|2010-12-03|      Portugal|            65|\n",
      "|2010-12-03|         Italy|           164|\n",
      "+----------+--------------+--------------+\n",
      "only showing top 20 rows\n",
      "\n"
     ]
    }
   ],
   "source": [
    "# rollups\n",
    "rolledUpDF = dfWithDate.rollup(\"Date\", \"Country\")\\\n",
    ".agg(sum(\"Quantity\"))\\\n",
    ".selectExpr(\"Date\", \"Country\", \"`sum(Quantity)` as total_quantity\")\\\n",
    ".orderBy(\"Date\")\n",
    "rolledUpDF.show(20)"
   ]
  },
  {
   "cell_type": "code",
   "execution_count": 40,
   "metadata": {},
   "outputs": [
    {
     "name": "stdout",
     "output_type": "stream",
     "text": [
      "+----+--------------------+--------------+\n",
      "|Date|             Country|total_quantity|\n",
      "+----+--------------------+--------------+\n",
      "|null|               Japan|         25218|\n",
      "|null|         Unspecified|          3300|\n",
      "|null|           Australia|         83653|\n",
      "|null|           Singapore|          5234|\n",
      "|null|                 RSA|           352|\n",
      "|null|             Germany|        117448|\n",
      "|null|            Portugal|         16180|\n",
      "|null|     Channel Islands|          9479|\n",
      "|null|             Lebanon|           386|\n",
      "|null|                null|       5176450|\n",
      "|null|               Spain|         26824|\n",
      "|null|           Hong Kong|          4769|\n",
      "|null|              Cyprus|          6317|\n",
      "|null|United Arab Emirates|           982|\n",
      "|null|             Denmark|          8188|\n",
      "|null|              Norway|         19247|\n",
      "|null|  European Community|           497|\n",
      "|null|      Czech Republic|           592|\n",
      "|null|                 USA|          1034|\n",
      "|null|             Finland|         10666|\n",
      "+----+--------------------+--------------+\n",
      "only showing top 20 rows\n",
      "\n"
     ]
    }
   ],
   "source": [
    "dfWithDate.cube(\"Date\", \"Country\")\\\n",
    ".agg(sum(col(\"Quantity\")))\\\n",
    ".selectExpr(\"Date\", \"Country\", \"`sum(Quantity)` as total_quantity\")\\\n",
    ".orderBy(\"Date\")\\\n",
    ".show(20)"
   ]
  },
  {
   "cell_type": "code",
   "execution_count": 36,
   "metadata": {},
   "outputs": [],
   "source": [
    "pivoted = dfWithDate\\\n",
    ".groupBy(\"date\")\\\n",
    ".pivot(\"Country\")\\\n",
    ".agg({\"quantity\":\"sum\"})"
   ]
  },
  {
   "cell_type": "code",
   "execution_count": 37,
   "metadata": {},
   "outputs": [
    {
     "name": "stdout",
     "output_type": "stream",
     "text": [
      "+----+\n",
      "| USA|\n",
      "+----+\n",
      "|null|\n",
      "|null|\n",
      "|-196|\n",
      "|null|\n",
      "+----+\n",
      "\n"
     ]
    }
   ],
   "source": [
    "pivoted.where(\"date > '2011-12-05'\").select(\"USA\").show()"
   ]
  }
 ],
 "metadata": {
  "kernelspec": {
   "display_name": "Python 3",
   "language": "python",
   "name": "python3"
  },
  "language_info": {
   "codemirror_mode": {
    "name": "ipython",
    "version": 3
   },
   "file_extension": ".py",
   "mimetype": "text/x-python",
   "name": "python",
   "nbconvert_exporter": "python",
   "pygments_lexer": "ipython3",
   "version": "3.6.5"
  }
 },
 "nbformat": 4,
 "nbformat_minor": 2
}
